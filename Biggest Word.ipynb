{
 "cells": [
  {
   "cell_type": "code",
   "execution_count": 1,
   "metadata": {},
   "outputs": [],
   "source": [
    "import tweepy\n",
    "import webbrowser\n",
    "\n",
    "# Inspired by CodingEntrepreneurs Day 21 of Python Video\n",
    "# Code receives a tweet and then replies to the tweet with the biggest word used"
   ]
  },
  {
   "cell_type": "code",
   "execution_count": 5,
   "metadata": {},
   "outputs": [
    {
     "name": "stdout",
     "output_type": "stream",
     "text": [
      "What's the pin value? 1316588\n"
     ]
    }
   ],
   "source": [
    "consumer_key = \"\" #Enter your consumer key here\n",
    "consumer_secret = \"\" #Enter your consumer secret key here\n",
    "callback_uri = 'oob' # url\n",
    "auth = tweepy.OAuthHandler(consumer_key, consumer_secret, callback_uri)\n",
    "redirect_url = auth.get_authorization_url()\n",
    "webbrowser.open(redirect_url)\n",
    "user_pin_input = input(\"What's the pin value? \")\n",
    "auth.get_access_token(user_pin_input)\n",
    "api = tweepy.API(auth)\n",
    "\n",
    "# An API authorized Twitter account is required for the code to work, a popup for Twitter to authorize will appear,\n",
    "# just paste the code given into the pin value? section and you can use the code block below"
   ]
  },
  {
   "cell_type": "code",
   "execution_count": 59,
   "metadata": {},
   "outputs": [],
   "source": [
    "link = False\n",
    "biggestLink = \"\"\n",
    "location = -1\n",
    "tweet = api.get_status(\"1344747948513533955\") #Enter the numbers at the end of the tweet url you selected\n",
    "sentence = tweet.text\n",
    "sentenceList = sentence.split()\n",
    "biggestWord = sentenceList[0]\n",
    "api_tweet = f\"@{tweet.user.screen_name}\"\n",
    "\n",
    "for x in sentenceList:\n",
    "    if len(x) > len(biggestWord):\n",
    "        if x[:8] == \"https://\" and len(x) > len(biggestLink):\n",
    "            biggestLink = x\n",
    "            link = True\n",
    "        else: \n",
    "            biggestWord = x\n",
    "    \n",
    "if link == True:\n",
    "    api_tweet = api_tweet + \"\\nTechnically, the biggest word you used in your tweet was the link: \" + biggestLink + \"\\nHowever, the next biggest word is: \" + biggestWord\n",
    "    \n",
    "else:\n",
    "    api_tweet = api_tweet + \"\\nThe biggest word you used in your tweet was: \" + biggestWord\n",
    "\n",
    "my_reply = api.update_status(api_tweet, tweet.id)"
   ]
  }
 ],
 "metadata": {
  "kernelspec": {
   "display_name": "Python 3",
   "language": "python",
   "name": "python3"
  },
  "language_info": {
   "codemirror_mode": {
    "name": "ipython",
    "version": 3
   },
   "file_extension": ".py",
   "mimetype": "text/x-python",
   "name": "python",
   "nbconvert_exporter": "python",
   "pygments_lexer": "ipython3",
   "version": "3.8.3"
  }
 },
 "nbformat": 4,
 "nbformat_minor": 4
}
